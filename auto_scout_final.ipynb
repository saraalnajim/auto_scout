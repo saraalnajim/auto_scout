{
 "cells": [
  {
   "cell_type": "code",
   "execution_count": 1,
   "id": "174f4c1c",
   "metadata": {},
   "outputs": [
    {
     "name": "stderr",
     "output_type": "stream",
     "text": [
      "C:\\Users\\saraa\\anaconda3\\lib\\site-packages\\scipy\\__init__.py:146: UserWarning: A NumPy version >=1.16.5 and <1.23.0 is required for this version of SciPy (detected version 1.26.1\n",
      "  warnings.warn(f\"A NumPy version >={np_minversion} and <{np_maxversion}\"\n"
     ]
    }
   ],
   "source": [
    "import numpy as np\n",
    "import pandas as pd\n",
    "from sklearn.linear_model import LinearRegression\n",
    "from sklearn.linear_model import Ridge\n",
    "from sklearn.linear_model import Lasso\n",
    "from sklearn.linear_model import ElasticNet\n",
    "from sklearn.model_selection import train_test_split, GridSearchCV\n",
    "from sklearn.preprocessing import OneHotEncoder, StandardScaler\n",
    "from sklearn.linear_model import LinearRegression, Ridge, Lasso, ElasticNet\n",
    "from sklearn.metrics import r2_score, mean_absolute_error, mean_squared_error\n",
    "import matplotlib.pyplot as plt\n",
    "import seaborn as sns\n",
    "import warnings\n",
    "warnings.filterwarnings('ignore')\n",
    "pd.set_option('display.max_columns', 500)\n",
    "pd.set_option('display.max_rows', 1000)"
   ]
  },
  {
   "cell_type": "code",
   "execution_count": 2,
   "id": "56858509",
   "metadata": {},
   "outputs": [
    {
     "data": {
      "text/html": [
       "<div>\n",
       "<style scoped>\n",
       "    .dataframe tbody tr th:only-of-type {\n",
       "        vertical-align: middle;\n",
       "    }\n",
       "\n",
       "    .dataframe tbody tr th {\n",
       "        vertical-align: top;\n",
       "    }\n",
       "\n",
       "    .dataframe thead th {\n",
       "        text-align: right;\n",
       "    }\n",
       "</style>\n",
       "<table border=\"1\" class=\"dataframe\">\n",
       "  <thead>\n",
       "    <tr style=\"text-align: right;\">\n",
       "      <th></th>\n",
       "      <th>make_model</th>\n",
       "      <th>body_type</th>\n",
       "      <th>price</th>\n",
       "      <th>vat</th>\n",
       "      <th>km</th>\n",
       "      <th>Type</th>\n",
       "      <th>Fuel</th>\n",
       "      <th>Gears</th>\n",
       "      <th>Comfort_Convenience</th>\n",
       "      <th>Entertainment_Media</th>\n",
       "      <th>Extras</th>\n",
       "      <th>Safety_Security</th>\n",
       "      <th>age</th>\n",
       "      <th>Previous_Owners</th>\n",
       "      <th>hp_kW</th>\n",
       "      <th>Inspection_new</th>\n",
       "      <th>Paint_Type</th>\n",
       "      <th>Upholstery_type</th>\n",
       "      <th>Gearing_Type</th>\n",
       "      <th>Displacement_cc</th>\n",
       "      <th>Weight_kg</th>\n",
       "      <th>Drive_chain</th>\n",
       "      <th>cons_comb</th>\n",
       "    </tr>\n",
       "  </thead>\n",
       "  <tbody>\n",
       "    <tr>\n",
       "      <th>0</th>\n",
       "      <td>Audi A1</td>\n",
       "      <td>Sedans</td>\n",
       "      <td>15770</td>\n",
       "      <td>VAT deductible</td>\n",
       "      <td>56013.0</td>\n",
       "      <td>Used</td>\n",
       "      <td>Diesel</td>\n",
       "      <td>7.0</td>\n",
       "      <td>Air conditioning,Armrest,Automatic climate con...</td>\n",
       "      <td>Bluetooth,Hands-free equipment,On-board comput...</td>\n",
       "      <td>Alloy wheels,Catalytic Converter,Voice Control</td>\n",
       "      <td>ABS,Central door lock,Daytime running lights,D...</td>\n",
       "      <td>3.0</td>\n",
       "      <td>2.0</td>\n",
       "      <td>66.0</td>\n",
       "      <td>1</td>\n",
       "      <td>Metallic</td>\n",
       "      <td>Cloth</td>\n",
       "      <td>Automatic</td>\n",
       "      <td>1422.0</td>\n",
       "      <td>1220.0</td>\n",
       "      <td>front</td>\n",
       "      <td>3.8</td>\n",
       "    </tr>\n",
       "    <tr>\n",
       "      <th>1</th>\n",
       "      <td>Audi A1</td>\n",
       "      <td>Sedans</td>\n",
       "      <td>14500</td>\n",
       "      <td>Price negotiable</td>\n",
       "      <td>80000.0</td>\n",
       "      <td>Used</td>\n",
       "      <td>Benzine</td>\n",
       "      <td>7.0</td>\n",
       "      <td>Air conditioning,Automatic climate control,Hil...</td>\n",
       "      <td>Bluetooth,Hands-free equipment,On-board comput...</td>\n",
       "      <td>Alloy wheels,Sport seats,Sport suspension,Voic...</td>\n",
       "      <td>ABS,Central door lock,Central door lock with r...</td>\n",
       "      <td>2.0</td>\n",
       "      <td>1.0</td>\n",
       "      <td>141.0</td>\n",
       "      <td>0</td>\n",
       "      <td>Metallic</td>\n",
       "      <td>Cloth</td>\n",
       "      <td>Automatic</td>\n",
       "      <td>1798.0</td>\n",
       "      <td>1255.0</td>\n",
       "      <td>front</td>\n",
       "      <td>5.6</td>\n",
       "    </tr>\n",
       "    <tr>\n",
       "      <th>2</th>\n",
       "      <td>Audi A1</td>\n",
       "      <td>Sedans</td>\n",
       "      <td>14640</td>\n",
       "      <td>VAT deductible</td>\n",
       "      <td>83450.0</td>\n",
       "      <td>Used</td>\n",
       "      <td>Diesel</td>\n",
       "      <td>7.0</td>\n",
       "      <td>Air conditioning,Cruise control,Electrical sid...</td>\n",
       "      <td>MP3,On-board computer</td>\n",
       "      <td>Alloy wheels,Voice Control</td>\n",
       "      <td>ABS,Central door lock,Daytime running lights,D...</td>\n",
       "      <td>3.0</td>\n",
       "      <td>1.0</td>\n",
       "      <td>85.0</td>\n",
       "      <td>0</td>\n",
       "      <td>Metallic</td>\n",
       "      <td>Cloth</td>\n",
       "      <td>Automatic</td>\n",
       "      <td>1598.0</td>\n",
       "      <td>1135.0</td>\n",
       "      <td>front</td>\n",
       "      <td>3.8</td>\n",
       "    </tr>\n",
       "    <tr>\n",
       "      <th>3</th>\n",
       "      <td>Audi A1</td>\n",
       "      <td>Sedans</td>\n",
       "      <td>14500</td>\n",
       "      <td>VAT deductible</td>\n",
       "      <td>73000.0</td>\n",
       "      <td>Used</td>\n",
       "      <td>Diesel</td>\n",
       "      <td>6.0</td>\n",
       "      <td>Air suspension,Armrest,Auxiliary heating,Elect...</td>\n",
       "      <td>Bluetooth,CD player,Hands-free equipment,MP3,O...</td>\n",
       "      <td>Alloy wheels,Sport seats,Voice Control</td>\n",
       "      <td>ABS,Alarm system,Central door lock with remote...</td>\n",
       "      <td>3.0</td>\n",
       "      <td>1.0</td>\n",
       "      <td>66.0</td>\n",
       "      <td>0</td>\n",
       "      <td>Metallic</td>\n",
       "      <td>Cloth</td>\n",
       "      <td>Automatic</td>\n",
       "      <td>1422.0</td>\n",
       "      <td>1195.0</td>\n",
       "      <td>front</td>\n",
       "      <td>3.8</td>\n",
       "    </tr>\n",
       "    <tr>\n",
       "      <th>4</th>\n",
       "      <td>Audi A1</td>\n",
       "      <td>Sedans</td>\n",
       "      <td>16790</td>\n",
       "      <td>VAT deductible</td>\n",
       "      <td>16200.0</td>\n",
       "      <td>Used</td>\n",
       "      <td>Diesel</td>\n",
       "      <td>7.0</td>\n",
       "      <td>Air conditioning,Armrest,Automatic climate con...</td>\n",
       "      <td>Bluetooth,CD player,Hands-free equipment,MP3,O...</td>\n",
       "      <td>Alloy wheels,Sport package,Sport suspension,Vo...</td>\n",
       "      <td>ABS,Central door lock,Driver-side airbag,Elect...</td>\n",
       "      <td>3.0</td>\n",
       "      <td>1.0</td>\n",
       "      <td>66.0</td>\n",
       "      <td>1</td>\n",
       "      <td>Metallic</td>\n",
       "      <td>Cloth</td>\n",
       "      <td>Automatic</td>\n",
       "      <td>1422.0</td>\n",
       "      <td>1135.0</td>\n",
       "      <td>front</td>\n",
       "      <td>4.1</td>\n",
       "    </tr>\n",
       "  </tbody>\n",
       "</table>\n",
       "</div>"
      ],
      "text/plain": [
       "  make_model body_type  price               vat       km  Type     Fuel  \\\n",
       "0    Audi A1    Sedans  15770    VAT deductible  56013.0  Used   Diesel   \n",
       "1    Audi A1    Sedans  14500  Price negotiable  80000.0  Used  Benzine   \n",
       "2    Audi A1    Sedans  14640    VAT deductible  83450.0  Used   Diesel   \n",
       "3    Audi A1    Sedans  14500    VAT deductible  73000.0  Used   Diesel   \n",
       "4    Audi A1    Sedans  16790    VAT deductible  16200.0  Used   Diesel   \n",
       "\n",
       "   Gears                                Comfort_Convenience  \\\n",
       "0    7.0  Air conditioning,Armrest,Automatic climate con...   \n",
       "1    7.0  Air conditioning,Automatic climate control,Hil...   \n",
       "2    7.0  Air conditioning,Cruise control,Electrical sid...   \n",
       "3    6.0  Air suspension,Armrest,Auxiliary heating,Elect...   \n",
       "4    7.0  Air conditioning,Armrest,Automatic climate con...   \n",
       "\n",
       "                                 Entertainment_Media  \\\n",
       "0  Bluetooth,Hands-free equipment,On-board comput...   \n",
       "1  Bluetooth,Hands-free equipment,On-board comput...   \n",
       "2                              MP3,On-board computer   \n",
       "3  Bluetooth,CD player,Hands-free equipment,MP3,O...   \n",
       "4  Bluetooth,CD player,Hands-free equipment,MP3,O...   \n",
       "\n",
       "                                              Extras  \\\n",
       "0     Alloy wheels,Catalytic Converter,Voice Control   \n",
       "1  Alloy wheels,Sport seats,Sport suspension,Voic...   \n",
       "2                         Alloy wheels,Voice Control   \n",
       "3             Alloy wheels,Sport seats,Voice Control   \n",
       "4  Alloy wheels,Sport package,Sport suspension,Vo...   \n",
       "\n",
       "                                     Safety_Security  age  Previous_Owners  \\\n",
       "0  ABS,Central door lock,Daytime running lights,D...  3.0              2.0   \n",
       "1  ABS,Central door lock,Central door lock with r...  2.0              1.0   \n",
       "2  ABS,Central door lock,Daytime running lights,D...  3.0              1.0   \n",
       "3  ABS,Alarm system,Central door lock with remote...  3.0              1.0   \n",
       "4  ABS,Central door lock,Driver-side airbag,Elect...  3.0              1.0   \n",
       "\n",
       "   hp_kW  Inspection_new Paint_Type Upholstery_type Gearing_Type  \\\n",
       "0   66.0               1   Metallic           Cloth    Automatic   \n",
       "1  141.0               0   Metallic           Cloth    Automatic   \n",
       "2   85.0               0   Metallic           Cloth    Automatic   \n",
       "3   66.0               0   Metallic           Cloth    Automatic   \n",
       "4   66.0               1   Metallic           Cloth    Automatic   \n",
       "\n",
       "   Displacement_cc  Weight_kg Drive_chain  cons_comb  \n",
       "0           1422.0     1220.0       front        3.8  \n",
       "1           1798.0     1255.0       front        5.6  \n",
       "2           1598.0     1135.0       front        3.8  \n",
       "3           1422.0     1195.0       front        3.8  \n",
       "4           1422.0     1135.0       front        4.1  "
      ]
     },
     "execution_count": 2,
     "metadata": {},
     "output_type": "execute_result"
    }
   ],
   "source": [
    "df = pd.read_csv('final_scout_not_dummy.csv')\n",
    "\n",
    "df.head()"
   ]
  },
  {
   "cell_type": "code",
   "execution_count": 3,
   "id": "c76005b9",
   "metadata": {},
   "outputs": [
    {
     "data": {
      "text/plain": [
       "(15915, 23)"
      ]
     },
     "execution_count": 3,
     "metadata": {},
     "output_type": "execute_result"
    }
   ],
   "source": [
    "df.shape"
   ]
  },
  {
   "cell_type": "code",
   "execution_count": 4,
   "id": "908a562d",
   "metadata": {},
   "outputs": [
    {
     "data": {
      "text/html": [
       "<div>\n",
       "<style scoped>\n",
       "    .dataframe tbody tr th:only-of-type {\n",
       "        vertical-align: middle;\n",
       "    }\n",
       "\n",
       "    .dataframe tbody tr th {\n",
       "        vertical-align: top;\n",
       "    }\n",
       "\n",
       "    .dataframe thead th {\n",
       "        text-align: right;\n",
       "    }\n",
       "</style>\n",
       "<table border=\"1\" class=\"dataframe\">\n",
       "  <thead>\n",
       "    <tr style=\"text-align: right;\">\n",
       "      <th></th>\n",
       "      <th>make_model</th>\n",
       "      <th>body_type</th>\n",
       "      <th>vat</th>\n",
       "      <th>Type</th>\n",
       "      <th>Fuel</th>\n",
       "      <th>Comfort_Convenience</th>\n",
       "      <th>Entertainment_Media</th>\n",
       "      <th>Extras</th>\n",
       "      <th>Safety_Security</th>\n",
       "      <th>Paint_Type</th>\n",
       "      <th>Upholstery_type</th>\n",
       "      <th>Gearing_Type</th>\n",
       "      <th>Drive_chain</th>\n",
       "    </tr>\n",
       "  </thead>\n",
       "  <tbody>\n",
       "    <tr>\n",
       "      <th>count</th>\n",
       "      <td>15915</td>\n",
       "      <td>15915</td>\n",
       "      <td>15915</td>\n",
       "      <td>15915</td>\n",
       "      <td>15915</td>\n",
       "      <td>15915</td>\n",
       "      <td>15915</td>\n",
       "      <td>15915</td>\n",
       "      <td>15915</td>\n",
       "      <td>15915</td>\n",
       "      <td>15915</td>\n",
       "      <td>15915</td>\n",
       "      <td>15915</td>\n",
       "    </tr>\n",
       "    <tr>\n",
       "      <th>unique</th>\n",
       "      <td>9</td>\n",
       "      <td>8</td>\n",
       "      <td>2</td>\n",
       "      <td>5</td>\n",
       "      <td>4</td>\n",
       "      <td>6196</td>\n",
       "      <td>346</td>\n",
       "      <td>659</td>\n",
       "      <td>4442</td>\n",
       "      <td>3</td>\n",
       "      <td>2</td>\n",
       "      <td>3</td>\n",
       "      <td>3</td>\n",
       "    </tr>\n",
       "    <tr>\n",
       "      <th>top</th>\n",
       "      <td>Audi A3</td>\n",
       "      <td>Sedans</td>\n",
       "      <td>VAT deductible</td>\n",
       "      <td>Used</td>\n",
       "      <td>Benzine</td>\n",
       "      <td>Air conditioning,Electrical side mirrors,Hill ...</td>\n",
       "      <td>Bluetooth,Hands-free equipment,On-board comput...</td>\n",
       "      <td>Alloy wheels</td>\n",
       "      <td>ABS,Central door lock,Daytime running lights,D...</td>\n",
       "      <td>Metallic</td>\n",
       "      <td>Cloth</td>\n",
       "      <td>Manual</td>\n",
       "      <td>front</td>\n",
       "    </tr>\n",
       "    <tr>\n",
       "      <th>freq</th>\n",
       "      <td>3097</td>\n",
       "      <td>8004</td>\n",
       "      <td>15044</td>\n",
       "      <td>11095</td>\n",
       "      <td>8548</td>\n",
       "      <td>388</td>\n",
       "      <td>1737</td>\n",
       "      <td>5785</td>\n",
       "      <td>729</td>\n",
       "      <td>15246</td>\n",
       "      <td>12234</td>\n",
       "      <td>8149</td>\n",
       "      <td>15707</td>\n",
       "    </tr>\n",
       "  </tbody>\n",
       "</table>\n",
       "</div>"
      ],
      "text/plain": [
       "       make_model body_type             vat   Type     Fuel  \\\n",
       "count       15915     15915           15915  15915    15915   \n",
       "unique          9         8               2      5        4   \n",
       "top       Audi A3    Sedans  VAT deductible   Used  Benzine   \n",
       "freq         3097      8004           15044  11095     8548   \n",
       "\n",
       "                                      Comfort_Convenience  \\\n",
       "count                                               15915   \n",
       "unique                                               6196   \n",
       "top     Air conditioning,Electrical side mirrors,Hill ...   \n",
       "freq                                                  388   \n",
       "\n",
       "                                      Entertainment_Media        Extras  \\\n",
       "count                                               15915         15915   \n",
       "unique                                                346           659   \n",
       "top     Bluetooth,Hands-free equipment,On-board comput...  Alloy wheels   \n",
       "freq                                                 1737          5785   \n",
       "\n",
       "                                          Safety_Security Paint_Type  \\\n",
       "count                                               15915      15915   \n",
       "unique                                               4442          3   \n",
       "top     ABS,Central door lock,Daytime running lights,D...   Metallic   \n",
       "freq                                                  729      15246   \n",
       "\n",
       "       Upholstery_type Gearing_Type Drive_chain  \n",
       "count            15915        15915       15915  \n",
       "unique               2            3           3  \n",
       "top              Cloth       Manual       front  \n",
       "freq             12234         8149       15707  "
      ]
     },
     "execution_count": 4,
     "metadata": {},
     "output_type": "execute_result"
    }
   ],
   "source": [
    "df.describe(include=\"O\")"
   ]
  },
  {
   "cell_type": "code",
   "execution_count": 5,
   "id": "65349743",
   "metadata": {},
   "outputs": [
    {
     "data": {
      "text/plain": [
       "array(['Used', \"Employee's car\", 'New', 'Demonstration', 'Pre-registered'],\n",
       "      dtype=object)"
      ]
     },
     "execution_count": 5,
     "metadata": {},
     "output_type": "execute_result"
    }
   ],
   "source": [
    "df[\"Type\"].unique()"
   ]
  },
  {
   "cell_type": "code",
   "execution_count": 6,
   "id": "d16d3563",
   "metadata": {},
   "outputs": [
    {
     "data": {
      "text/html": [
       "<div>\n",
       "<style scoped>\n",
       "    .dataframe tbody tr th:only-of-type {\n",
       "        vertical-align: middle;\n",
       "    }\n",
       "\n",
       "    .dataframe tbody tr th {\n",
       "        vertical-align: top;\n",
       "    }\n",
       "\n",
       "    .dataframe thead th {\n",
       "        text-align: right;\n",
       "    }\n",
       "</style>\n",
       "<table border=\"1\" class=\"dataframe\">\n",
       "  <thead>\n",
       "    <tr style=\"text-align: right;\">\n",
       "      <th></th>\n",
       "      <th>price</th>\n",
       "      <th>km</th>\n",
       "      <th>Gears</th>\n",
       "      <th>age</th>\n",
       "      <th>Previous_Owners</th>\n",
       "      <th>hp_kW</th>\n",
       "      <th>Inspection_new</th>\n",
       "      <th>Displacement_cc</th>\n",
       "      <th>Weight_kg</th>\n",
       "      <th>cons_comb</th>\n",
       "    </tr>\n",
       "  </thead>\n",
       "  <tbody>\n",
       "    <tr>\n",
       "      <th>count</th>\n",
       "      <td>15915.000000</td>\n",
       "      <td>15915.000000</td>\n",
       "      <td>15915.000000</td>\n",
       "      <td>15915.000000</td>\n",
       "      <td>15915.000000</td>\n",
       "      <td>15915.000000</td>\n",
       "      <td>15915.000000</td>\n",
       "      <td>15915.000000</td>\n",
       "      <td>15915.000000</td>\n",
       "      <td>15915.000000</td>\n",
       "    </tr>\n",
       "    <tr>\n",
       "      <th>mean</th>\n",
       "      <td>18024.380584</td>\n",
       "      <td>32089.995708</td>\n",
       "      <td>5.937355</td>\n",
       "      <td>1.389695</td>\n",
       "      <td>1.042853</td>\n",
       "      <td>88.499340</td>\n",
       "      <td>0.247063</td>\n",
       "      <td>1428.661891</td>\n",
       "      <td>1337.700534</td>\n",
       "      <td>4.832124</td>\n",
       "    </tr>\n",
       "    <tr>\n",
       "      <th>std</th>\n",
       "      <td>7381.679318</td>\n",
       "      <td>36977.214964</td>\n",
       "      <td>0.704772</td>\n",
       "      <td>1.121306</td>\n",
       "      <td>0.339178</td>\n",
       "      <td>26.674341</td>\n",
       "      <td>0.431317</td>\n",
       "      <td>275.804272</td>\n",
       "      <td>199.682385</td>\n",
       "      <td>0.867530</td>\n",
       "    </tr>\n",
       "    <tr>\n",
       "      <th>min</th>\n",
       "      <td>4950.000000</td>\n",
       "      <td>0.000000</td>\n",
       "      <td>5.000000</td>\n",
       "      <td>0.000000</td>\n",
       "      <td>0.000000</td>\n",
       "      <td>40.000000</td>\n",
       "      <td>0.000000</td>\n",
       "      <td>890.000000</td>\n",
       "      <td>840.000000</td>\n",
       "      <td>3.000000</td>\n",
       "    </tr>\n",
       "    <tr>\n",
       "      <th>25%</th>\n",
       "      <td>12850.000000</td>\n",
       "      <td>1920.500000</td>\n",
       "      <td>5.000000</td>\n",
       "      <td>0.000000</td>\n",
       "      <td>1.000000</td>\n",
       "      <td>66.000000</td>\n",
       "      <td>0.000000</td>\n",
       "      <td>1229.000000</td>\n",
       "      <td>1165.000000</td>\n",
       "      <td>4.100000</td>\n",
       "    </tr>\n",
       "    <tr>\n",
       "      <th>50%</th>\n",
       "      <td>16900.000000</td>\n",
       "      <td>20413.000000</td>\n",
       "      <td>6.000000</td>\n",
       "      <td>1.000000</td>\n",
       "      <td>1.000000</td>\n",
       "      <td>85.000000</td>\n",
       "      <td>0.000000</td>\n",
       "      <td>1461.000000</td>\n",
       "      <td>1295.000000</td>\n",
       "      <td>4.800000</td>\n",
       "    </tr>\n",
       "    <tr>\n",
       "      <th>75%</th>\n",
       "      <td>21900.000000</td>\n",
       "      <td>46900.000000</td>\n",
       "      <td>6.000000</td>\n",
       "      <td>2.000000</td>\n",
       "      <td>1.000000</td>\n",
       "      <td>103.000000</td>\n",
       "      <td>0.000000</td>\n",
       "      <td>1598.000000</td>\n",
       "      <td>1472.000000</td>\n",
       "      <td>5.400000</td>\n",
       "    </tr>\n",
       "    <tr>\n",
       "      <th>max</th>\n",
       "      <td>74600.000000</td>\n",
       "      <td>317000.000000</td>\n",
       "      <td>8.000000</td>\n",
       "      <td>3.000000</td>\n",
       "      <td>4.000000</td>\n",
       "      <td>294.000000</td>\n",
       "      <td>1.000000</td>\n",
       "      <td>2967.000000</td>\n",
       "      <td>2471.000000</td>\n",
       "      <td>9.100000</td>\n",
       "    </tr>\n",
       "  </tbody>\n",
       "</table>\n",
       "</div>"
      ],
      "text/plain": [
       "              price             km         Gears           age  \\\n",
       "count  15915.000000   15915.000000  15915.000000  15915.000000   \n",
       "mean   18024.380584   32089.995708      5.937355      1.389695   \n",
       "std     7381.679318   36977.214964      0.704772      1.121306   \n",
       "min     4950.000000       0.000000      5.000000      0.000000   \n",
       "25%    12850.000000    1920.500000      5.000000      0.000000   \n",
       "50%    16900.000000   20413.000000      6.000000      1.000000   \n",
       "75%    21900.000000   46900.000000      6.000000      2.000000   \n",
       "max    74600.000000  317000.000000      8.000000      3.000000   \n",
       "\n",
       "       Previous_Owners         hp_kW  Inspection_new  Displacement_cc  \\\n",
       "count     15915.000000  15915.000000    15915.000000     15915.000000   \n",
       "mean          1.042853     88.499340        0.247063      1428.661891   \n",
       "std           0.339178     26.674341        0.431317       275.804272   \n",
       "min           0.000000     40.000000        0.000000       890.000000   \n",
       "25%           1.000000     66.000000        0.000000      1229.000000   \n",
       "50%           1.000000     85.000000        0.000000      1461.000000   \n",
       "75%           1.000000    103.000000        0.000000      1598.000000   \n",
       "max           4.000000    294.000000        1.000000      2967.000000   \n",
       "\n",
       "          Weight_kg     cons_comb  \n",
       "count  15915.000000  15915.000000  \n",
       "mean    1337.700534      4.832124  \n",
       "std      199.682385      0.867530  \n",
       "min      840.000000      3.000000  \n",
       "25%     1165.000000      4.100000  \n",
       "50%     1295.000000      4.800000  \n",
       "75%     1472.000000      5.400000  \n",
       "max     2471.000000      9.100000  "
      ]
     },
     "execution_count": 6,
     "metadata": {},
     "output_type": "execute_result"
    }
   ],
   "source": [
    "df.describe() # no need to scaling, because we have sensible data about high price for car, km...etc"
   ]
  },
  {
   "cell_type": "code",
   "execution_count": 7,
   "id": "77ae4bcc",
   "metadata": {},
   "outputs": [
    {
     "name": "stdout",
     "output_type": "stream",
     "text": [
      "<class 'pandas.core.frame.DataFrame'>\n",
      "RangeIndex: 15915 entries, 0 to 15914\n",
      "Data columns (total 23 columns):\n",
      " #   Column               Non-Null Count  Dtype  \n",
      "---  ------               --------------  -----  \n",
      " 0   make_model           15915 non-null  object \n",
      " 1   body_type            15915 non-null  object \n",
      " 2   price                15915 non-null  int64  \n",
      " 3   vat                  15915 non-null  object \n",
      " 4   km                   15915 non-null  float64\n",
      " 5   Type                 15915 non-null  object \n",
      " 6   Fuel                 15915 non-null  object \n",
      " 7   Gears                15915 non-null  float64\n",
      " 8   Comfort_Convenience  15915 non-null  object \n",
      " 9   Entertainment_Media  15915 non-null  object \n",
      " 10  Extras               15915 non-null  object \n",
      " 11  Safety_Security      15915 non-null  object \n",
      " 12  age                  15915 non-null  float64\n",
      " 13  Previous_Owners      15915 non-null  float64\n",
      " 14  hp_kW                15915 non-null  float64\n",
      " 15  Inspection_new       15915 non-null  int64  \n",
      " 16  Paint_Type           15915 non-null  object \n",
      " 17  Upholstery_type      15915 non-null  object \n",
      " 18  Gearing_Type         15915 non-null  object \n",
      " 19  Displacement_cc      15915 non-null  float64\n",
      " 20  Weight_kg            15915 non-null  float64\n",
      " 21  Drive_chain          15915 non-null  object \n",
      " 22  cons_comb            15915 non-null  float64\n",
      "dtypes: float64(8), int64(2), object(13)\n",
      "memory usage: 2.8+ MB\n"
     ]
    }
   ],
   "source": [
    "df.info()"
   ]
  },
  {
   "cell_type": "code",
   "execution_count": 8,
   "id": "97e492b0",
   "metadata": {},
   "outputs": [
    {
     "data": {
      "text/plain": [
       "make_model             0\n",
       "body_type              0\n",
       "price                  0\n",
       "vat                    0\n",
       "km                     0\n",
       "Type                   0\n",
       "Fuel                   0\n",
       "Gears                  0\n",
       "Comfort_Convenience    0\n",
       "Entertainment_Media    0\n",
       "Extras                 0\n",
       "Safety_Security        0\n",
       "age                    0\n",
       "Previous_Owners        0\n",
       "hp_kW                  0\n",
       "Inspection_new         0\n",
       "Paint_Type             0\n",
       "Upholstery_type        0\n",
       "Gearing_Type           0\n",
       "Displacement_cc        0\n",
       "Weight_kg              0\n",
       "Drive_chain            0\n",
       "cons_comb              0\n",
       "dtype: int64"
      ]
     },
     "execution_count": 8,
     "metadata": {},
     "output_type": "execute_result"
    }
   ],
   "source": [
    "df.isnull().sum()"
   ]
  },
  {
   "cell_type": "code",
   "execution_count": 9,
   "id": "25641541",
   "metadata": {},
   "outputs": [
    {
     "data": {
      "image/png": "[encoded data removed]",
      "text/plain": [
       "<Figure size 864x576 with 2 Axes>"
      ]
     },
     "metadata": {
      "needs_background": "light"
     },
     "output_type": "display_data"
    }
   ],
   "source": [
    "corr_matrix = df.corr(numeric_only= True)\n",
    "\n",
    "plt.figure(figsize=(12, 8))\n",
    "sns.heatmap(corr_matrix, annot=True, cmap='coolwarm')\n",
    "plt.show() #here multicollinearity not important, because we focus on the dependent varibale(price) to be predicted"
   ]
  },
  {
   "cell_type": "code",
   "execution_count": 10,
   "id": "1996118b",
   "metadata": {},
   "outputs": [
    {
     "data": {
      "text/plain": [
       "<AxesSubplot:ylabel='price'>"
      ]
     },
     "execution_count": 10,
     "metadata": {},
     "output_type": "execute_result"
    },
    {
     "data": {
      "image/png": "[encoded data removed]",
      "text/plain": [
       "<Figure size 432x288 with 1 Axes>"
      ]
     },
     "metadata": {
      "needs_background": "light"
     },
     "output_type": "display_data"
    }
   ],
   "source": [
    "sns.boxplot(df.price )# here the outliers not misleading, so we don't remove it"
   ]
  },
  {
   "cell_type": "code",
   "execution_count": 11,
   "id": "7c5dda1a",
   "metadata": {},
   "outputs": [
    {
     "data": {
      "text/plain": [
       "[Text(0, 0, '3097'),\n",
       " Text(0, 0, '2614'),\n",
       " Text(0, 0, '2598'),\n",
       " Text(0, 0, '2525'),\n",
       " Text(0, 0, '2216'),\n",
       " Text(0, 0, '1839'),\n",
       " Text(0, 0, '991'),\n",
       " Text(0, 0, '34'),\n",
       " Text(0, 0, '1')]"
      ]
     },
     "execution_count": 11,
     "metadata": {},
     "output_type": "execute_result"
    },
    {
     "data": {
      "image/png": "[encoded data removed]",
      "text/plain": [
       "<Figure size 864x360 with 1 Axes>"
      ]
     },
     "metadata": {
      "needs_background": "light"
     },
     "output_type": "display_data"
    }
   ],
   "source": [
    "ax = df.make_model.value_counts().plot(kind =\"bar\", figsize=(12,5))\n",
    "ax.bar_label(ax.containers[0])"
   ]
  },
  {
   "cell_type": "code",
   "execution_count": 12,
   "id": "857af538",
   "metadata": {},
   "outputs": [
    {
     "data": {
      "text/plain": [
       "[Text(0, 0, '8149'), Text(0, 0, '7297'), Text(0, 0, '469')]"
      ]
     },
     "execution_count": 12,
     "metadata": {},
     "output_type": "execute_result"
    },
    {
     "data": {
      "image/png": "[encoded data removed]",
      "text/plain": [
       "<Figure size 864x360 with 1 Axes>"
      ]
     },
     "metadata": {
      "needs_background": "light"
     },
     "output_type": "display_data"
    }
   ],
   "source": [
    "ax3 = df.Gearing_Type.value_counts().plot(kind =\"bar\", figsize=(12,5))\n",
    "ax3.bar_label(ax3.containers[0])"
   ]
  },
  {
   "cell_type": "code",
   "execution_count": 13,
   "id": "52fbe9b0",
   "metadata": {},
   "outputs": [
    {
     "data": {
      "text/plain": [
       "Gearing_Type\n",
       "Manual            8149\n",
       "Automatic         7297\n",
       "Semi-automatic     469\n",
       "Name: count, dtype: int64"
      ]
     },
     "execution_count": 13,
     "metadata": {},
     "output_type": "execute_result"
    }
   ],
   "source": [
    "df.Gearing_Type.value_counts()"
   ]
  },
  {
   "cell_type": "code",
   "execution_count": 14,
   "id": "b9832dfb",
   "metadata": {},
   "outputs": [
    {
     "data": {
      "text/plain": [
       "make_model\n",
       "Audi A3           3097\n",
       "Audi A1           2614\n",
       "Opel Insignia     2598\n",
       "Opel Astra        2525\n",
       "Opel Corsa        2216\n",
       "Renault Clio      1839\n",
       "Renault Espace     991\n",
       "Renault Duster      34\n",
       "Audi A2              1\n",
       "Name: count, dtype: int64"
      ]
     },
     "execution_count": 14,
     "metadata": {},
     "output_type": "execute_result"
    }
   ],
   "source": [
    "df.make_model.value_counts()"
   ]
  },
  {
   "cell_type": "code",
   "execution_count": 15,
   "id": "8712acaa",
   "metadata": {},
   "outputs": [],
   "source": [
    "final_features =[\"age\", \"hp_kW\", \"km\", \"Gearing_Type\", 'make_model',\"Gears\", \"Weight_kg\", 'price'] # choosing most affect features to predict the price"
   ]
  },
  {
   "cell_type": "code",
   "execution_count": 16,
   "id": "8ed55a3a",
   "metadata": {},
   "outputs": [
    {
     "data": {
      "text/html": [
       "<div>\n",
       "<style scoped>\n",
       "    .dataframe tbody tr th:only-of-type {\n",
       "        vertical-align: middle;\n",
       "    }\n",
       "\n",
       "    .dataframe tbody tr th {\n",
       "        vertical-align: top;\n",
       "    }\n",
       "\n",
       "    .dataframe thead th {\n",
       "        text-align: right;\n",
       "    }\n",
       "</style>\n",
       "<table border=\"1\" class=\"dataframe\">\n",
       "  <thead>\n",
       "    <tr style=\"text-align: right;\">\n",
       "      <th></th>\n",
       "      <th>age</th>\n",
       "      <th>hp_kW</th>\n",
       "      <th>km</th>\n",
       "      <th>Gearing_Type</th>\n",
       "      <th>make_model</th>\n",
       "      <th>Gears</th>\n",
       "      <th>Weight_kg</th>\n",
       "      <th>price</th>\n",
       "    </tr>\n",
       "  </thead>\n",
       "  <tbody>\n",
       "    <tr>\n",
       "      <th>0</th>\n",
       "      <td>3.0</td>\n",
       "      <td>66.0</td>\n",
       "      <td>56013.000000</td>\n",
       "      <td>Automatic</td>\n",
       "      <td>Audi A1</td>\n",
       "      <td>7.0</td>\n",
       "      <td>1220.0</td>\n",
       "      <td>15770</td>\n",
       "    </tr>\n",
       "    <tr>\n",
       "      <th>1</th>\n",
       "      <td>2.0</td>\n",
       "      <td>141.0</td>\n",
       "      <td>80000.000000</td>\n",
       "      <td>Automatic</td>\n",
       "      <td>Audi A1</td>\n",
       "      <td>7.0</td>\n",
       "      <td>1255.0</td>\n",
       "      <td>14500</td>\n",
       "    </tr>\n",
       "    <tr>\n",
       "      <th>2</th>\n",
       "      <td>3.0</td>\n",
       "      <td>85.0</td>\n",
       "      <td>83450.000000</td>\n",
       "      <td>Automatic</td>\n",
       "      <td>Audi A1</td>\n",
       "      <td>7.0</td>\n",
       "      <td>1135.0</td>\n",
       "      <td>14640</td>\n",
       "    </tr>\n",
       "    <tr>\n",
       "      <th>3</th>\n",
       "      <td>3.0</td>\n",
       "      <td>66.0</td>\n",
       "      <td>73000.000000</td>\n",
       "      <td>Automatic</td>\n",
       "      <td>Audi A1</td>\n",
       "      <td>6.0</td>\n",
       "      <td>1195.0</td>\n",
       "      <td>14500</td>\n",
       "    </tr>\n",
       "    <tr>\n",
       "      <th>4</th>\n",
       "      <td>3.0</td>\n",
       "      <td>66.0</td>\n",
       "      <td>16200.000000</td>\n",
       "      <td>Automatic</td>\n",
       "      <td>Audi A1</td>\n",
       "      <td>7.0</td>\n",
       "      <td>1135.0</td>\n",
       "      <td>16790</td>\n",
       "    </tr>\n",
       "    <tr>\n",
       "      <th>...</th>\n",
       "      <td>...</td>\n",
       "      <td>...</td>\n",
       "      <td>...</td>\n",
       "      <td>...</td>\n",
       "      <td>...</td>\n",
       "      <td>...</td>\n",
       "      <td>...</td>\n",
       "      <td>...</td>\n",
       "    </tr>\n",
       "    <tr>\n",
       "      <th>15910</th>\n",
       "      <td>0.0</td>\n",
       "      <td>147.0</td>\n",
       "      <td>1647.362609</td>\n",
       "      <td>Automatic</td>\n",
       "      <td>Renault Espace</td>\n",
       "      <td>6.0</td>\n",
       "      <td>1758.0</td>\n",
       "      <td>39950</td>\n",
       "    </tr>\n",
       "    <tr>\n",
       "      <th>15911</th>\n",
       "      <td>0.0</td>\n",
       "      <td>165.0</td>\n",
       "      <td>9900.000000</td>\n",
       "      <td>Automatic</td>\n",
       "      <td>Renault Espace</td>\n",
       "      <td>7.0</td>\n",
       "      <td>1708.0</td>\n",
       "      <td>39885</td>\n",
       "    </tr>\n",
       "    <tr>\n",
       "      <th>15912</th>\n",
       "      <td>0.0</td>\n",
       "      <td>146.0</td>\n",
       "      <td>15.000000</td>\n",
       "      <td>Automatic</td>\n",
       "      <td>Renault Espace</td>\n",
       "      <td>6.0</td>\n",
       "      <td>1734.0</td>\n",
       "      <td>39875</td>\n",
       "    </tr>\n",
       "    <tr>\n",
       "      <th>15913</th>\n",
       "      <td>0.0</td>\n",
       "      <td>147.0</td>\n",
       "      <td>10.000000</td>\n",
       "      <td>Automatic</td>\n",
       "      <td>Renault Espace</td>\n",
       "      <td>6.0</td>\n",
       "      <td>1758.0</td>\n",
       "      <td>39700</td>\n",
       "    </tr>\n",
       "    <tr>\n",
       "      <th>15914</th>\n",
       "      <td>0.0</td>\n",
       "      <td>165.0</td>\n",
       "      <td>1647.362609</td>\n",
       "      <td>Automatic</td>\n",
       "      <td>Renault Espace</td>\n",
       "      <td>6.0</td>\n",
       "      <td>1685.0</td>\n",
       "      <td>40999</td>\n",
       "    </tr>\n",
       "  </tbody>\n",
       "</table>\n",
       "<p>15915 rows × 8 columns</p>\n",
       "</div>"
      ],
      "text/plain": [
       "       age  hp_kW            km Gearing_Type      make_model  Gears  \\\n",
       "0      3.0   66.0  56013.000000    Automatic         Audi A1    7.0   \n",
       "1      2.0  141.0  80000.000000    Automatic         Audi A1    7.0   \n",
       "2      3.0   85.0  83450.000000    Automatic         Audi A1    7.0   \n",
       "3      3.0   66.0  73000.000000    Automatic         Audi A1    6.0   \n",
       "4      3.0   66.0  16200.000000    Automatic         Audi A1    7.0   \n",
       "...    ...    ...           ...          ...             ...    ...   \n",
       "15910  0.0  147.0   1647.362609    Automatic  Renault Espace    6.0   \n",
       "15911  0.0  165.0   9900.000000    Automatic  Renault Espace    7.0   \n",
       "15912  0.0  146.0     15.000000    Automatic  Renault Espace    6.0   \n",
       "15913  0.0  147.0     10.000000    Automatic  Renault Espace    6.0   \n",
       "15914  0.0  165.0   1647.362609    Automatic  Renault Espace    6.0   \n",
       "\n",
       "       Weight_kg  price  \n",
       "0         1220.0  15770  \n",
       "1         1255.0  14500  \n",
       "2         1135.0  14640  \n",
       "3         1195.0  14500  \n",
       "4         1135.0  16790  \n",
       "...          ...    ...  \n",
       "15910     1758.0  39950  \n",
       "15911     1708.0  39885  \n",
       "15912     1734.0  39875  \n",
       "15913     1758.0  39700  \n",
       "15914     1685.0  40999  \n",
       "\n",
       "[15915 rows x 8 columns]"
      ]
     },
     "execution_count": 16,
     "metadata": {},
     "output_type": "execute_result"
    }
   ],
   "source": [
    "df= df[final_features]\n",
    "df"
   ]
  },
  {
   "cell_type": "code",
   "execution_count": 17,
   "id": "0d9899cd",
   "metadata": {},
   "outputs": [],
   "source": [
    "X=df[[\"age\", \"hp_kW\", \"km\", \"Gearing_Type\", 'make_model',\"Weight_kg\",\"Gears\"]]\n",
    "y=df[['price']]"
   ]
  },
  {
   "cell_type": "code",
   "execution_count": 18,
   "id": "6584638c",
   "metadata": {},
   "outputs": [
    {
     "data": {
      "text/plain": [
       "array(['Automatic', 'Manual', 'Semi-automatic'], dtype=object)"
      ]
     },
     "execution_count": 18,
     "metadata": {},
     "output_type": "execute_result"
    }
   ],
   "source": [
    "X[\"Gearing_Type\"].unique()"
   ]
  },
  {
   "cell_type": "code",
   "execution_count": 19,
   "id": "1476bb36",
   "metadata": {},
   "outputs": [
    {
     "data": {
      "text/html": [
       "<div>\n",
       "<style scoped>\n",
       "    .dataframe tbody tr th:only-of-type {\n",
       "        vertical-align: middle;\n",
       "    }\n",
       "\n",
       "    .dataframe tbody tr th {\n",
       "        vertical-align: top;\n",
       "    }\n",
       "\n",
       "    .dataframe thead th {\n",
       "        text-align: right;\n",
       "    }\n",
       "</style>\n",
       "<table border=\"1\" class=\"dataframe\">\n",
       "  <thead>\n",
       "    <tr style=\"text-align: right;\">\n",
       "      <th></th>\n",
       "      <th>age</th>\n",
       "      <th>hp_kW</th>\n",
       "      <th>km</th>\n",
       "      <th>Gearing_Type</th>\n",
       "      <th>make_model</th>\n",
       "      <th>Weight_kg</th>\n",
       "      <th>Gears</th>\n",
       "    </tr>\n",
       "  </thead>\n",
       "  <tbody>\n",
       "    <tr>\n",
       "      <th>0</th>\n",
       "      <td>3.0</td>\n",
       "      <td>66.0</td>\n",
       "      <td>56013.0</td>\n",
       "      <td>Automatic</td>\n",
       "      <td>Audi A1</td>\n",
       "      <td>1220.0</td>\n",
       "      <td>7.0</td>\n",
       "    </tr>\n",
       "    <tr>\n",
       "      <th>1</th>\n",
       "      <td>2.0</td>\n",
       "      <td>141.0</td>\n",
       "      <td>80000.0</td>\n",
       "      <td>Automatic</td>\n",
       "      <td>Audi A1</td>\n",
       "      <td>1255.0</td>\n",
       "      <td>7.0</td>\n",
       "    </tr>\n",
       "    <tr>\n",
       "      <th>2</th>\n",
       "      <td>3.0</td>\n",
       "      <td>85.0</td>\n",
       "      <td>83450.0</td>\n",
       "      <td>Automatic</td>\n",
       "      <td>Audi A1</td>\n",
       "      <td>1135.0</td>\n",
       "      <td>7.0</td>\n",
       "    </tr>\n",
       "    <tr>\n",
       "      <th>3</th>\n",
       "      <td>3.0</td>\n",
       "      <td>66.0</td>\n",
       "      <td>73000.0</td>\n",
       "      <td>Automatic</td>\n",
       "      <td>Audi A1</td>\n",
       "      <td>1195.0</td>\n",
       "      <td>6.0</td>\n",
       "    </tr>\n",
       "    <tr>\n",
       "      <th>4</th>\n",
       "      <td>3.0</td>\n",
       "      <td>66.0</td>\n",
       "      <td>16200.0</td>\n",
       "      <td>Automatic</td>\n",
       "      <td>Audi A1</td>\n",
       "      <td>1135.0</td>\n",
       "      <td>7.0</td>\n",
       "    </tr>\n",
       "  </tbody>\n",
       "</table>\n",
       "</div>"
      ],
      "text/plain": [
       "   age  hp_kW       km Gearing_Type make_model  Weight_kg  Gears\n",
       "0  3.0   66.0  56013.0    Automatic    Audi A1     1220.0    7.0\n",
       "1  2.0  141.0  80000.0    Automatic    Audi A1     1255.0    7.0\n",
       "2  3.0   85.0  83450.0    Automatic    Audi A1     1135.0    7.0\n",
       "3  3.0   66.0  73000.0    Automatic    Audi A1     1195.0    6.0\n",
       "4  3.0   66.0  16200.0    Automatic    Audi A1     1135.0    7.0"
      ]
     },
     "execution_count": 19,
     "metadata": {},
     "output_type": "execute_result"
    }
   ],
   "source": [
    "X.head()"
   ]
  },
  {
   "cell_type": "code",
   "execution_count": 26,
   "id": "493bf7c8",
   "metadata": {},
   "outputs": [],
   "source": [
    "from sklearn.preprocessing import OrdinalEncoder\n",
    "encoder = OrdinalEncoder()\n",
    "\n",
    "X[[\"Gearing_Type\",\"make_model\"]] = encoder.fit_transform(X[[\"Gearing_Type\",\"make_model\"]])\n",
    "\n"
   ]
  },
  {
   "cell_type": "code",
   "execution_count": 27,
   "id": "c6bd9657",
   "metadata": {},
   "outputs": [
    {
     "data": {
      "text/plain": [
       "array([0., 1., 2.])"
      ]
     },
     "execution_count": 27,
     "metadata": {},
     "output_type": "execute_result"
    }
   ],
   "source": [
    "X[\"Gearing_Type\"].unique()"
   ]
  },
  {
   "cell_type": "code",
   "execution_count": 39,
   "id": "9cec24e8",
   "metadata": {},
   "outputs": [],
   "source": [
    "from sklearn.model_selection import train_test_split\n",
    "X_train, X_test, y_train, y_test = train_test_split(X, y, test_size=0.30, random_state=101)"
   ]
  },
  {
   "cell_type": "code",
   "execution_count": 40,
   "id": "1a5d73c8",
   "metadata": {},
   "outputs": [
    {
     "data": {
      "text/plain": [
       "(11140, 7)"
      ]
     },
     "execution_count": 40,
     "metadata": {},
     "output_type": "execute_result"
    }
   ],
   "source": [
    "X_train.shape"
   ]
  },
  {
   "cell_type": "code",
   "execution_count": 41,
   "id": "60aeb45e",
   "metadata": {},
   "outputs": [
    {
     "data": {
      "text/plain": [
       "(4775, 7)"
      ]
     },
     "execution_count": 41,
     "metadata": {},
     "output_type": "execute_result"
    }
   ],
   "source": [
    "X_test.shape"
   ]
  },
  {
   "cell_type": "code",
   "execution_count": 98,
   "id": "8b5cbb8c",
   "metadata": {},
   "outputs": [
    {
     "data": {
      "text/plain": [
       "RandomForestRegressor(max_depth=8, n_estimators=300, random_state=101)"
      ]
     },
     "execution_count": 98,
     "metadata": {},
     "output_type": "execute_result"
    }
   ],
   "source": [
    "from sklearn.ensemble import RandomForestRegressor\n",
    "\n",
    "rf = RandomForestRegressor(n_estimators=300, max_depth= 8 ,random_state=101)\n",
    "rf.fit(X_train,y_train)"
   ]
  },
  {
   "cell_type": "code",
   "execution_count": 99,
   "id": "ae4ac292",
   "metadata": {},
   "outputs": [],
   "source": [
    "from sklearn.metrics import mean_absolute_error, mean_squared_error, r2_score"
   ]
  },
  {
   "cell_type": "code",
   "execution_count": 100,
   "id": "b2bc4c2b",
   "metadata": {},
   "outputs": [],
   "source": [
    "y_pred = rf.predict(X_test)"
   ]
  },
  {
   "cell_type": "code",
   "execution_count": 101,
   "id": "879bbcad",
   "metadata": {},
   "outputs": [],
   "source": [
    "def eval_metric(actual, pred):\n",
    "    mae = mean_absolute_error(actual, pred)\n",
    "    mse = mean_squared_error(actual, pred)\n",
    "    rmse = np.sqrt(mean_squared_error(actual, pred))\n",
    "    R2_score = r2_score(actual, pred)\n",
    "    print(\"--------------------------\")\n",
    "    print(f\"R2_score : {R2_score}\")\n",
    "    print(f\"MAE {'':<5}: {mae}\")\n",
    "    print(f\"MSE {'':<5}: {mse}\")\n",
    "    print(f\"RMSE{'':<5}: {rmse}\")\n",
    "\n",
    "    return None"
   ]
  },
  {
   "cell_type": "code",
   "execution_count": 102,
   "id": "01fafca3",
   "metadata": {},
   "outputs": [
    {
     "name": "stdout",
     "output_type": "stream",
     "text": [
      "Model testing performance:\n",
      "--------------------------\n",
      "R2_score : 0.9114954576171763\n",
      "MAE      : 1412.90408744658\n",
      "MSE      : 4708185.037884202\n",
      "RMSE     : 2169.8352559317036\n"
     ]
    }
   ],
   "source": [
    "print(\"Model testing performance:\")\n",
    "eval_metric(y_test, y_pred) # i think the high of the MAE, MSE, RMSE because the outliers,\n",
    "#but in this data there is no misleading outliers,it's normal regarding to the cars data\n"
   ]
  },
  {
   "cell_type": "code",
   "execution_count": 103,
   "id": "f78bfb74",
   "metadata": {},
   "outputs": [],
   "source": [
    "y_train_pred = rf.predict(X_train)"
   ]
  },
  {
   "cell_type": "code",
   "execution_count": 104,
   "id": "3c2875c5",
   "metadata": {},
   "outputs": [
    {
     "name": "stdout",
     "output_type": "stream",
     "text": [
      "Model training performance:\n",
      "--------------------------\n",
      "R2_score : 0.9372985804555977\n",
      "MAE      : 1252.9715717519339\n",
      "MSE      : 3450866.2611943516\n",
      "RMSE     : 1857.650737139345\n"
     ]
    }
   ],
   "source": [
    "print(\"Model training performance:\")\n",
    "eval_metric(y_train, y_train_pred)"
   ]
  },
  {
   "cell_type": "code",
   "execution_count": 105,
   "id": "47f35c26",
   "metadata": {},
   "outputs": [],
   "source": [
    "import pickle\n",
    "pickle.dump(rf, open(\"rf_model_final\",\"wb\"))\n",
    "pickle.dump(encoded, open(\"transformer_final\",\"wb\"))"
   ]
  },
  {
   "cell_type": "code",
   "execution_count": null,
   "id": "ad13f298",
   "metadata": {},
   "outputs": [],
   "source": []
  }
 ],
 "metadata": {
  "kernelspec": {
   "display_name": "Python 3 (ipykernel)",
   "language": "python",
   "name": "python3"
  },
  "language_info": {
   "codemirror_mode": {
    "name": "ipython",
    "version": 3
   },
   "file_extension": ".py",
   "mimetype": "text/x-python",
   "name": "python",
   "nbconvert_exporter": "python",
   "pygments_lexer": "ipython3",
   "version": "3.9.12"
  }
 },
 "nbformat": 4,
 "nbformat_minor": 5
}
